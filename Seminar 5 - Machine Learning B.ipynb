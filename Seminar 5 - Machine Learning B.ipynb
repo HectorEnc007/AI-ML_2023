{
 "cells": [
  {
   "cell_type": "markdown",
   "id": "ba20305b",
   "metadata": {},
   "source": [
    "# Machine Learning (Supervised)"
   ]
  },
  {
   "cell_type": "code",
   "execution_count": 1,
   "id": "67ad007e",
   "metadata": {},
   "outputs": [],
   "source": [
    "import warnings\n",
    "warnings.simplefilter(action='ignore', category=FutureWarning)"
   ]
  },
  {
   "cell_type": "markdown",
   "id": "9dd17724",
   "metadata": {},
   "source": [
    "## K-nearest neighbours\n",
    "\n",
    "K-Nearest Neighbors (KNN) is a simple, non-parametric, and lazy learning algorithm used for classification and regression. In both cases, the input consists of the k closest training examples in the feature space. The output depends on whether KNN is used for classification or regression:\n",
    "\n",
    "In KNN classification, the output is a class membership. An object is classified by a majority vote of its neighbors, with the object being assigned to the class most common among its k nearest neighbors (k is a positive integer, typically small). If k=1, then the object is simply assigned to the class of that single nearest neighbor.\n",
    "\n",
    "In KNN regression, the output is the property value for the object. This value is the average of the values of its k nearest neighbors."
   ]
  },
  {
   "cell_type": "code",
   "execution_count": 2,
   "id": "81bbe0dd",
   "metadata": {},
   "outputs": [
    {
     "name": "stderr",
     "output_type": "stream",
     "text": [
      "/Users/HectorEnc/opt/anaconda3/lib/python3.9/site-packages/scipy/__init__.py:155: UserWarning: A NumPy version >=1.18.5 and <1.25.0 is required for this version of SciPy (detected version 1.26.1\n",
      "  warnings.warn(f\"A NumPy version >={np_minversion} and <{np_maxversion}\"\n"
     ]
    }
   ],
   "source": [
    "from sklearn import datasets\n",
    "iris = datasets.load_iris()\n",
    "from sklearn.model_selection import train_test_split\n",
    "X_train, X_test, Y_train, Y_test = train_test_split(iris.data, \n",
    "                    iris.target, test_size=0.2, random_state=0)\n"
   ]
  },
  {
   "cell_type": "code",
   "execution_count": 3,
   "id": "6622f306",
   "metadata": {},
   "outputs": [],
   "source": [
    "from sklearn.preprocessing import StandardScaler\n",
    "scaler = StandardScaler()\n",
    "X_train = scaler.fit_transform(X_train)\n",
    "X_test = scaler.transform(X_test)"
   ]
  },
  {
   "cell_type": "code",
   "execution_count": 4,
   "id": "647ffea0",
   "metadata": {},
   "outputs": [],
   "source": [
    "from sklearn.neighbors import KNeighborsClassifier\n",
    "clf = KNeighborsClassifier(n_neighbors=2)\n",
    "clf.fit(X_train, Y_train)\n",
    "Y_pred = clf.predict(X_test)"
   ]
  },
  {
   "cell_type": "code",
   "execution_count": 5,
   "id": "7a1a47ff",
   "metadata": {},
   "outputs": [
    {
     "name": "stdout",
     "output_type": "stream",
     "text": [
      "              precision    recall  f1-score   support\n",
      "\n",
      "           0       1.00      1.00      1.00        11\n",
      "           1       0.93      1.00      0.96        13\n",
      "           2       1.00      0.83      0.91         6\n",
      "\n",
      "    accuracy                           0.97        30\n",
      "   macro avg       0.98      0.94      0.96        30\n",
      "weighted avg       0.97      0.97      0.97        30\n",
      "\n"
     ]
    }
   ],
   "source": [
    "from sklearn.metrics import classification_report\n",
    "print (classification_report(Y_test, Y_pred))"
   ]
  },
  {
   "cell_type": "markdown",
   "id": "fb968a2d",
   "metadata": {},
   "source": [
    "## Advanced non linear algorithms\n",
    "\n",
    "Advanced nonlinear algorithms for classification include a range of techniques that can handle complex patterns in data that are not linearly separable. These algorithms are capable of modeling the non-linear boundaries between classes.\n",
    "\n",
    "### SVM for classification\n",
    "\n",
    "Support Vector Machine (SVM) is a powerful, supervised machine learning algorithm used for both classification and regression. However, it is more commonly used for classification problems. The basic idea behind SVM is to find the hyperplane that best separates the classes."
   ]
  },
  {
   "cell_type": "code",
   "execution_count": 6,
   "id": "c5c4baff",
   "metadata": {},
   "outputs": [],
   "source": [
    "from sklearn.svm import SVC\n",
    "hypothesis = SVC(kernel='rbf', random_state=101)"
   ]
  },
  {
   "cell_type": "markdown",
   "id": "0ef42399",
   "metadata": {},
   "source": [
    "### Cross Validation\n",
    "Cross-validation is a resampling procedure used to evaluate machine learning models on a limited data sample. Cross-validation is essential for any machine learning task as it provides insights into the model's performance and ensures that your model has learned the data patterns instead of memorizing them. It is one of the key steps to follow to avoid the pitfalls of overfitting and underfitting."
   ]
  },
  {
   "cell_type": "code",
   "execution_count": 7,
   "id": "d6dc56da",
   "metadata": {},
   "outputs": [
    {
     "name": "stdout",
     "output_type": "stream",
     "text": [
      "SVC with rbf kernel -> cross validation accuracy: mean = 0.942 std = 0.033\n"
     ]
    }
   ],
   "source": [
    "import numpy as np\n",
    "from sklearn.model_selection import cross_val_score\n",
    "scores = cross_val_score(hypothesis, X_train, Y_train, cv=5, scoring='accuracy')\n",
    "print (\"SVC with rbf kernel -> cross validation accuracy: mean = %0.3f std = %0.3f\" % (np.mean(scores), np.std(scores)))"
   ]
  },
  {
   "cell_type": "code",
   "execution_count": 8,
   "id": "098a8946",
   "metadata": {},
   "outputs": [],
   "source": [
    "from sklearn.svm import LinearSVC\n",
    "hypothesis = LinearSVC()"
   ]
  },
  {
   "cell_type": "code",
   "execution_count": 9,
   "id": "52338356",
   "metadata": {},
   "outputs": [
    {
     "name": "stdout",
     "output_type": "stream",
     "text": [
      "LinearSVC -> cross validation accuracy: mean = 0.917 std = 0.059\n"
     ]
    }
   ],
   "source": [
    "scores = cross_val_score(hypothesis, X_train, Y_train, cv=5, scoring='accuracy')\n",
    "print (\"LinearSVC -> cross validation accuracy: mean = %0.3f std = %0.3f\" % (np.mean(scores), np.std(scores)))"
   ]
  },
  {
   "cell_type": "markdown",
   "id": "3f9ab68e",
   "metadata": {},
   "source": [
    "### SVM for regression\n",
    "Support Vector Machine (SVM) can also be used for regression problems, not just classification. This variant of SVM is known as Support Vector Regression (SVR). \n",
    "\n",
    "The objective of SVR is to find a function that has at most (ε) deviation from the actually obtained targets (y) for all the training data, and at the same time is as flat as possible. In other words, SVR attempts to fit the error within a certain threshold."
   ]
  },
  {
   "cell_type": "code",
   "execution_count": 10,
   "id": "9cacaa45",
   "metadata": {},
   "outputs": [],
   "source": [
    "# Data Loading\n",
    "from sklearn.datasets import fetch_california_housing\n",
    "cali = fetch_california_housing()"
   ]
  },
  {
   "cell_type": "code",
   "execution_count": 11,
   "id": "df66b813",
   "metadata": {},
   "outputs": [],
   "source": [
    "# Data Preprocessing\n",
    "from sklearn.model_selection import train_test_split\n",
    "X_train, X_test, Y_train, Y_test = train_test_split(cali.data, \n",
    "                    cali.target, test_size=0.2, random_state=0)"
   ]
  },
  {
   "cell_type": "code",
   "execution_count": 13,
   "id": "ee82afa8",
   "metadata": {},
   "outputs": [],
   "source": [
    "# Dimensional Reduction\n",
    "from sklearn.preprocessing import StandardScaler\n",
    "scaler = StandardScaler()\n",
    "X_train = scaler.fit_transform(X_train)\n",
    "X_test = scaler.transform(X_test)"
   ]
  },
  {
   "cell_type": "code",
   "execution_count": 14,
   "id": "f235a870",
   "metadata": {},
   "outputs": [],
   "source": [
    "import numpy as np\n",
    "from sklearn.model_selection import cross_val_score\n",
    "from sklearn.svm import SVR\n",
    "hypothesis = SVR()"
   ]
  },
  {
   "cell_type": "code",
   "execution_count": 15,
   "id": "a0b3f5f6",
   "metadata": {},
   "outputs": [],
   "source": [
    "scores = cross_val_score(hypothesis, X_train, Y_train, cv=3, \n",
    "                        scoring='neg_mean_absolute_error')"
   ]
  },
  {
   "cell_type": "code",
   "execution_count": 16,
   "id": "1c7f3987",
   "metadata": {},
   "outputs": [
    {
     "name": "stdout",
     "output_type": "stream",
     "text": [
      "SVR -> cross validation accuracy (neg_mean_absolute_error): mean = -0.393 std = 0.003\n"
     ]
    }
   ],
   "source": [
    "print (\"SVR -> cross validation accuracy (neg_mean_absolute_error): mean = %0.3f std = %0.3f\" % (np.mean(scores), np.std(scores)))"
   ]
  },
  {
   "cell_type": "markdown",
   "id": "eb14c1a1",
   "metadata": {},
   "source": [
    "-------------------------------------------------------------------------------------------------------------------\n",
    "\n",
    "# Predicting LendingClub Loan Status\n",
    "\n",
    "[LendingClub](https://www.lendingclub.com/) is a US peer-to-peer lending company and the world's largest peer-to-peer lending platform. In this project, we build machine learning models to predict the probability that a loan on LendingClub will charge off (kind of default). These models could help LendingClub investors make better-informed investment decisions.\n",
    "\n",
    "A charge-off or chargeoff is the declaration by a creditor (usually a credit card account) that an amount of debt is unlikely to be collected. This occurs when a consumer becomes severely delinquent on a debt. Traditionally, creditors will make this declaration at the point of six months without payment. A charge-off is a form of write-off. \n",
    "\n",
    "In training the models, we only use features that are known to investors before they choose to invest in the loan."
   ]
  },
  {
   "cell_type": "markdown",
   "id": "50869878",
   "metadata": {},
   "source": [
    "### Import the Data"
   ]
  },
  {
   "cell_type": "code",
   "execution_count": 17,
   "id": "748a2191",
   "metadata": {},
   "outputs": [],
   "source": [
    "import numpy as np\n",
    "import pandas as pd\n",
    "import matplotlib.pyplot as plt\n",
    "import seaborn as sns\n",
    "pd.options.mode.chained_assignment = None \n",
    "\n",
    "# Close the warning about \"A value is trying to be set on a copy of a slice from a DataFrame\"\n"
   ]
  },
  {
   "cell_type": "code",
   "execution_count": 18,
   "id": "6f0ce571",
   "metadata": {},
   "outputs": [
    {
     "data": {
      "text/html": [
       "<div>\n",
       "<style scoped>\n",
       "    .dataframe tbody tr th:only-of-type {\n",
       "        vertical-align: middle;\n",
       "    }\n",
       "\n",
       "    .dataframe tbody tr th {\n",
       "        vertical-align: top;\n",
       "    }\n",
       "\n",
       "    .dataframe thead th {\n",
       "        text-align: right;\n",
       "    }\n",
       "</style>\n",
       "<table border=\"1\" class=\"dataframe\">\n",
       "  <thead>\n",
       "    <tr style=\"text-align: right;\">\n",
       "      <th></th>\n",
       "      <th>loan_amnt</th>\n",
       "      <th>int_rate</th>\n",
       "      <th>installment</th>\n",
       "      <th>emp_length</th>\n",
       "      <th>dti</th>\n",
       "      <th>log_annual_inc</th>\n",
       "      <th>log_revol_bal</th>\n",
       "      <th>charged_off</th>\n",
       "    </tr>\n",
       "  </thead>\n",
       "  <tbody>\n",
       "    <tr>\n",
       "      <th>0</th>\n",
       "      <td>5000.0</td>\n",
       "      <td>10.65</td>\n",
       "      <td>162.87</td>\n",
       "      <td>10.0</td>\n",
       "      <td>27.65</td>\n",
       "      <td>4.380229</td>\n",
       "      <td>4.135101</td>\n",
       "      <td>False</td>\n",
       "    </tr>\n",
       "    <tr>\n",
       "      <th>1</th>\n",
       "      <td>2500.0</td>\n",
       "      <td>15.27</td>\n",
       "      <td>59.83</td>\n",
       "      <td>0.0</td>\n",
       "      <td>1.00</td>\n",
       "      <td>4.477136</td>\n",
       "      <td>3.227372</td>\n",
       "      <td>True</td>\n",
       "    </tr>\n",
       "    <tr>\n",
       "      <th>2</th>\n",
       "      <td>2400.0</td>\n",
       "      <td>15.96</td>\n",
       "      <td>84.33</td>\n",
       "      <td>10.0</td>\n",
       "      <td>8.72</td>\n",
       "      <td>4.088242</td>\n",
       "      <td>3.470851</td>\n",
       "      <td>False</td>\n",
       "    </tr>\n",
       "    <tr>\n",
       "      <th>3</th>\n",
       "      <td>10000.0</td>\n",
       "      <td>13.49</td>\n",
       "      <td>339.31</td>\n",
       "      <td>10.0</td>\n",
       "      <td>20.00</td>\n",
       "      <td>4.691974</td>\n",
       "      <td>3.748110</td>\n",
       "      <td>False</td>\n",
       "    </tr>\n",
       "    <tr>\n",
       "      <th>4</th>\n",
       "      <td>5000.0</td>\n",
       "      <td>7.90</td>\n",
       "      <td>156.46</td>\n",
       "      <td>3.0</td>\n",
       "      <td>11.20</td>\n",
       "      <td>4.556315</td>\n",
       "      <td>3.901131</td>\n",
       "      <td>False</td>\n",
       "    </tr>\n",
       "  </tbody>\n",
       "</table>\n",
       "</div>"
      ],
      "text/plain": [
       "   loan_amnt  int_rate  installment  emp_length    dti  log_annual_inc  \\\n",
       "0     5000.0     10.65       162.87        10.0  27.65        4.380229   \n",
       "1     2500.0     15.27        59.83         0.0   1.00        4.477136   \n",
       "2     2400.0     15.96        84.33        10.0   8.72        4.088242   \n",
       "3    10000.0     13.49       339.31        10.0  20.00        4.691974   \n",
       "4     5000.0      7.90       156.46         3.0  11.20        4.556315   \n",
       "\n",
       "   log_revol_bal  charged_off  \n",
       "0       4.135101        False  \n",
       "1       3.227372         True  \n",
       "2       3.470851        False  \n",
       "3       3.748110        False  \n",
       "4       3.901131        False  "
      ]
     },
     "execution_count": 18,
     "metadata": {},
     "output_type": "execute_result"
    }
   ],
   "source": [
    "loans = pd.read_csv('loans_num.csv')\n",
    "loans.head()"
   ]
  },
  {
   "cell_type": "code",
   "execution_count": 19,
   "id": "f27f7663",
   "metadata": {},
   "outputs": [
    {
     "data": {
      "text/plain": [
       "(243074, 8)"
      ]
     },
     "execution_count": 19,
     "metadata": {},
     "output_type": "execute_result"
    }
   ],
   "source": [
    "loans.shape"
   ]
  },
  {
   "cell_type": "code",
   "execution_count": 20,
   "id": "a130efa5",
   "metadata": {},
   "outputs": [
    {
     "data": {
      "text/html": [
       "<div>\n",
       "<style scoped>\n",
       "    .dataframe tbody tr th:only-of-type {\n",
       "        vertical-align: middle;\n",
       "    }\n",
       "\n",
       "    .dataframe tbody tr th {\n",
       "        vertical-align: top;\n",
       "    }\n",
       "\n",
       "    .dataframe thead th {\n",
       "        text-align: right;\n",
       "    }\n",
       "</style>\n",
       "<table border=\"1\" class=\"dataframe\">\n",
       "  <thead>\n",
       "    <tr style=\"text-align: right;\">\n",
       "      <th></th>\n",
       "      <th>loan_amnt</th>\n",
       "      <th>int_rate</th>\n",
       "      <th>installment</th>\n",
       "      <th>emp_length</th>\n",
       "      <th>dti</th>\n",
       "      <th>log_annual_inc</th>\n",
       "      <th>log_revol_bal</th>\n",
       "    </tr>\n",
       "  </thead>\n",
       "  <tbody>\n",
       "    <tr>\n",
       "      <th>count</th>\n",
       "      <td>243074.000000</td>\n",
       "      <td>243074.000000</td>\n",
       "      <td>243074.000000</td>\n",
       "      <td>243074.000000</td>\n",
       "      <td>243074.000000</td>\n",
       "      <td>243074.000000</td>\n",
       "      <td>243074.000000</td>\n",
       "    </tr>\n",
       "    <tr>\n",
       "      <th>mean</th>\n",
       "      <td>13677.345273</td>\n",
       "      <td>13.762363</td>\n",
       "      <td>421.238995</td>\n",
       "      <td>5.829579</td>\n",
       "      <td>16.500254</td>\n",
       "      <td>4.805452</td>\n",
       "      <td>3.971718</td>\n",
       "    </tr>\n",
       "    <tr>\n",
       "      <th>std</th>\n",
       "      <td>8144.728814</td>\n",
       "      <td>4.403093</td>\n",
       "      <td>245.291980</td>\n",
       "      <td>3.621042</td>\n",
       "      <td>7.761498</td>\n",
       "      <td>0.221326</td>\n",
       "      <td>0.559002</td>\n",
       "    </tr>\n",
       "    <tr>\n",
       "      <th>min</th>\n",
       "      <td>500.000000</td>\n",
       "      <td>5.320000</td>\n",
       "      <td>15.690000</td>\n",
       "      <td>0.000000</td>\n",
       "      <td>0.000000</td>\n",
       "      <td>3.602169</td>\n",
       "      <td>0.000000</td>\n",
       "    </tr>\n",
       "    <tr>\n",
       "      <th>25%</th>\n",
       "      <td>7500.000000</td>\n",
       "      <td>10.740000</td>\n",
       "      <td>243.237500</td>\n",
       "      <td>2.000000</td>\n",
       "      <td>10.740000</td>\n",
       "      <td>4.653222</td>\n",
       "      <td>3.772395</td>\n",
       "    </tr>\n",
       "    <tr>\n",
       "      <th>50%</th>\n",
       "      <td>12000.000000</td>\n",
       "      <td>13.530000</td>\n",
       "      <td>368.450000</td>\n",
       "      <td>6.000000</td>\n",
       "      <td>16.155000</td>\n",
       "      <td>4.799347</td>\n",
       "      <td>4.042536</td>\n",
       "    </tr>\n",
       "    <tr>\n",
       "      <th>75%</th>\n",
       "      <td>18600.000000</td>\n",
       "      <td>16.550000</td>\n",
       "      <td>550.230000</td>\n",
       "      <td>10.000000</td>\n",
       "      <td>21.920000</td>\n",
       "      <td>4.948418</td>\n",
       "      <td>4.283137</td>\n",
       "    </tr>\n",
       "    <tr>\n",
       "      <th>max</th>\n",
       "      <td>35000.000000</td>\n",
       "      <td>28.990000</td>\n",
       "      <td>1424.570000</td>\n",
       "      <td>10.000000</td>\n",
       "      <td>57.140000</td>\n",
       "      <td>6.939848</td>\n",
       "      <td>6.242223</td>\n",
       "    </tr>\n",
       "  </tbody>\n",
       "</table>\n",
       "</div>"
      ],
      "text/plain": [
       "           loan_amnt       int_rate    installment     emp_length  \\\n",
       "count  243074.000000  243074.000000  243074.000000  243074.000000   \n",
       "mean    13677.345273      13.762363     421.238995       5.829579   \n",
       "std      8144.728814       4.403093     245.291980       3.621042   \n",
       "min       500.000000       5.320000      15.690000       0.000000   \n",
       "25%      7500.000000      10.740000     243.237500       2.000000   \n",
       "50%     12000.000000      13.530000     368.450000       6.000000   \n",
       "75%     18600.000000      16.550000     550.230000      10.000000   \n",
       "max     35000.000000      28.990000    1424.570000      10.000000   \n",
       "\n",
       "                 dti  log_annual_inc  log_revol_bal  \n",
       "count  243074.000000   243074.000000  243074.000000  \n",
       "mean       16.500254        4.805452       3.971718  \n",
       "std         7.761498        0.221326       0.559002  \n",
       "min         0.000000        3.602169       0.000000  \n",
       "25%        10.740000        4.653222       3.772395  \n",
       "50%        16.155000        4.799347       4.042536  \n",
       "75%        21.920000        4.948418       4.283137  \n",
       "max        57.140000        6.939848       6.242223  "
      ]
     },
     "execution_count": 20,
     "metadata": {},
     "output_type": "execute_result"
    }
   ],
   "source": [
    "loans.describe()"
   ]
  },
  {
   "cell_type": "code",
   "execution_count": 21,
   "id": "20af471d",
   "metadata": {},
   "outputs": [
    {
     "data": {
      "text/plain": [
       "charged_off\n",
       "False    200351\n",
       "True      42723\n",
       "Name: count, dtype: int64"
      ]
     },
     "execution_count": 21,
     "metadata": {},
     "output_type": "execute_result"
    }
   ],
   "source": [
    "loans['charged_off'].value_counts()"
   ]
  },
  {
   "cell_type": "code",
   "execution_count": null,
   "id": "f5ca99c0",
   "metadata": {},
   "outputs": [],
   "source": []
  }
 ],
 "metadata": {
  "kernelspec": {
   "display_name": "Python 3 (ipykernel)",
   "language": "python",
   "name": "python3"
  },
  "language_info": {
   "codemirror_mode": {
    "name": "ipython",
    "version": 3
   },
   "file_extension": ".py",
   "mimetype": "text/x-python",
   "name": "python",
   "nbconvert_exporter": "python",
   "pygments_lexer": "ipython3",
   "version": "3.9.13"
  }
 },
 "nbformat": 4,
 "nbformat_minor": 5
}
